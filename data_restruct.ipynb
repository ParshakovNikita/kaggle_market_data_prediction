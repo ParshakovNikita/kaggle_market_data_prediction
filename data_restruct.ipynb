{
 "cells": [
  {
   "cell_type": "code",
   "execution_count": 1,
   "metadata": {},
   "outputs": [],
   "source": [
    "import pandas as pd\n",
    "import numpy as np\n",
    "from tqdm import tqdm\n",
    "import os"
   ]
  },
  {
   "cell_type": "code",
   "execution_count": null,
   "metadata": {},
   "outputs": [],
   "source": [
    "DATA_PATH = os.path.abspath(path='data')"
   ]
  },
  {
   "cell_type": "code",
   "execution_count": null,
   "metadata": {},
   "outputs": [],
   "source": [
    "def split_data_by_ticker(partition_ids):\n",
    "    \"\"\"\n",
    "    Разделяет данные по тикерам и сохраняет каждый тикер в отдельный файл.\n",
    "    \"\"\"\n",
    "    for id in tqdm(partition_ids):\n",
    "        if id == 8 or id == 9:\n",
    "            print(\"Invalid partition_id: 8 and 9 are reserved for validation purposes.\")\n",
    "            continue\n",
    "\n",
    "        path = os.path.join(DATA_PATH, 'train.parquet', f'partition_id={id}', 'part-0.parquet')\n",
    "        \n",
    "        if not os.path.exists(path):\n",
    "            print(f\"File not found: {path}\")\n",
    "            continue\n",
    "\n",
    "        df = pd.read_parquet(path)\n",
    "\n",
    "        for symbol in df.symbol_id.unique():\n",
    "            symbol_df = df[df['symbol_id'] == symbol]\n",
    "\n",
    "            output_dir = os.path.join(DATA_PATH, 'train_symbol_split', f'partition_id={id}')\n",
    "            output_path = os.path.join(output_dir, f'symbol_{symbol}.parquet')\n",
    "\n",
    "            os.makedirs(output_dir, exist_ok=True)\n",
    "\n",
    "            symbol_df.to_parquet(output_path, index=False)\n",
    "\n",
    "        print(f\"Saved data for symbols in folder {id}\")\n",
    "\n",
    "        del df\n"
   ]
  },
  {
   "cell_type": "code",
   "execution_count": null,
   "metadata": {},
   "outputs": [],
   "source": [
    "# feature_columns = [col for col in rand_symbol.columns if col.startswith('feature')]\n",
    "\n",
    "# # Создание сетки сабплотов\n",
    "# n_features = len(feature_columns)\n",
    "# cols = 4  # Количество графиков в ряду\n",
    "# rows = math.ceil(n_features / cols)  # Количество рядов\n",
    "# fig, axes = plt.subplots(rows, cols, figsize=(16, rows * 4))\n",
    "\n",
    "# # Если графиков меньше, чем ячеек в сетке, отключим лишние\n",
    "# axes = axes.flatten()\n",
    "# for ax in axes[n_features:]:\n",
    "#     ax.axis('off')\n",
    "\n",
    "# # Построение графиков для каждой feature\n",
    "# for i, feature in enumerate(feature_columns):\n",
    "#     axes[i].plot(rand_symbol.index, rand_symbol[feature], marker='o', linestyle='-', label=feature)\n",
    "#     axes[i].set_title(feature, fontsize=10)\n",
    "#     axes[i].set_xlabel(\"Time ID\", fontsize=9)\n",
    "#     axes[i].set_ylabel(\"Value\", fontsize=9)\n",
    "#     axes[i].grid(True, linestyle='--', alpha=0.7)\n",
    "#     axes[i].legend(fontsize=8)\n",
    "\n",
    "# # Оформление\n",
    "# plt.tight_layout()\n",
    "# plt.show()"
   ]
  }
 ],
 "metadata": {
  "kernelspec": {
   "display_name": "base",
   "language": "python",
   "name": "python3"
  },
  "language_info": {
   "codemirror_mode": {
    "name": "ipython",
    "version": 3
   },
   "file_extension": ".py",
   "mimetype": "text/x-python",
   "name": "python",
   "nbconvert_exporter": "python",
   "pygments_lexer": "ipython3",
   "version": "3.11.4"
  }
 },
 "nbformat": 4,
 "nbformat_minor": 2
}
